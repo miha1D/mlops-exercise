{
  "nbformat": 4,
  "nbformat_minor": 0,
  "metadata": {
    "colab": {
      "provenance": [],
      "gpuType": "T4",
      "authorship_tag": "ABX9TyMsaGev/Z60xTUK536aFSey",
      "include_colab_link": true
    },
    "kernelspec": {
      "name": "python3",
      "display_name": "Python 3"
    },
    "language_info": {
      "name": "python"
    },
    "accelerator": "GPU"
  },
  "cells": [
    {
      "cell_type": "markdown",
      "metadata": {
        "id": "view-in-github",
        "colab_type": "text"
      },
      "source": [
        "<a href=\"https://colab.research.google.com/github/miha1D/mlops-exercise/blob/main/Image_Prediction_Project.ipynb\" target=\"_parent\"><img src=\"https://colab.research.google.com/assets/colab-badge.svg\" alt=\"Open In Colab\"/></a>"
      ]
    },
    {
      "cell_type": "code",
      "execution_count": null,
      "metadata": {
        "id": "q-f_9qS6QFqn"
      },
      "outputs": [],
      "source": [
        "from google.colab import drive\n",
        "import os\n",
        "import numpy as np\n",
        "import shutil\n",
        "import matplotlib.pyplot as plt\n",
        "from keras.preprocessing.image import ImageDataGenerator, load_img, img_to_array\n",
        "from tensorflow.keras.models import Model\n",
        "from tensorflow.keras.applications import MobileNetV2\n",
        "from tensorflow.keras.layers import Dense, GlobalAveragePooling2D\n",
        "import tensorflow as tf"
      ]
    },
    {
      "cell_type": "code",
      "source": [
        "# Mount Google Drive\n",
        "try:\n",
        "    drive.mount('/content/drive', force_remount=True)\n",
        "    print(\"Drive mounted successfully\")\n",
        "except ValueError as e:\n",
        "    print(\"Error mounting Drive:\", e)"
      ],
      "metadata": {
        "colab": {
          "base_uri": "https://localhost:8080/"
        },
        "id": "wMyfA5zzQOl4",
        "outputId": "2fc3ac01-f712-48f3-cd17-c3d9c2518dae"
      },
      "execution_count": null,
      "outputs": [
        {
          "output_type": "stream",
          "name": "stdout",
          "text": [
            "Mounted at /content/drive\n",
            "Drive mounted successfully\n"
          ]
        }
      ]
    },
    {
      "cell_type": "code",
      "source": [
        "# Define base directory\n",
        "base_dir = '/content/drive/MyDrive/New Project/dataset/'"
      ],
      "metadata": {
        "id": "U7qAOTxw5Fh5"
      },
      "execution_count": null,
      "outputs": []
    },
    {
      "cell_type": "code",
      "source": [
        "# Function to move images to a new directory\n",
        "def move_images(src_dir, dest_dir, class_names, num_to_move):\n",
        "    for class_name in class_names:\n",
        "        class_src_dir = os.path.join(src_dir, class_name)\n",
        "        class_dest_dir = os.path.join(dest_dir, class_name)\n",
        "\n",
        "        if not os.path.exists(class_dest_dir):\n",
        "            os.makedirs(class_dest_dir)\n",
        "\n",
        "        images = os.listdir(class_src_dir)\n",
        "        images_to_move = images[:num_to_move]\n",
        "\n",
        "        for img in images_to_move:\n",
        "            shutil.move(os.path.join(class_src_dir, img), os.path.join(class_dest_dir, img))\n",
        "            print(f\"Moved {img} from {class_src_dir} to {class_dest_dir}\")"
      ],
      "metadata": {
        "id": "UNn89H1A5UYt"
      },
      "execution_count": null,
      "outputs": []
    },
    {
      "cell_type": "code",
      "source": [
        "# Verify the structure and images in each category\n",
        "def verify_structure(base_dir):\n",
        "    for category in os.listdir(base_dir):\n",
        "        category_path = os.path.join(base_dir, category)\n",
        "        if os.path.isdir(category_path):\n",
        "            print(f\"Category: {category}\")\n",
        "            print(f\"Number of images: {len(os.listdir(category_path))}\")\n",
        "            for img_file in os.listdir(category_path)[:5]:\n",
        "                print(f\" - {img_file}\")"
      ],
      "metadata": {
        "colab": {
          "base_uri": "https://localhost:8080/"
        },
        "id": "Khi_16ohgzqU",
        "outputId": "bd84c8d8-377e-4383-d281-fb2f05e641f6"
      },
      "execution_count": null,
      "outputs": [
        {
          "output_type": "stream",
          "name": "stdout",
          "text": [
            "Category: Park\n",
            "Number of images: 0\n",
            "Category: Cars\n",
            "Number of images: 0\n",
            "Category: animals\n",
            "Number of images: 0\n",
            "Category: train\n",
            "Number of images: 3\n",
            " - Park\n",
            " - Cars\n",
            " - animals\n",
            "Category: validation\n",
            "Number of images: 3\n",
            " - Park\n",
            " - Cars\n",
            " - animals\n"
          ]
        }
      ]
    },
    {
      "cell_type": "code",
      "source": [
        "# Initial verification of structure\n",
        "verify_structure(base_dir)"
      ],
      "metadata": {
        "id": "xcWBhXpb8EFb"
      },
      "execution_count": null,
      "outputs": []
    },
    {
      "cell_type": "code",
      "source": [
        "# Create new directories for training and validation\n",
        "train_dir = os.path.join(base_dir, 'train')\n",
        "validation_dir = os.path.join(base_dir, 'validation')\n",
        "\n",
        "if not os.path.exists(train_dir):\n",
        "    os.makedirs(train_dir)\n",
        "if not os.path.exists(validation_dir):\n",
        "    os.makedirs(validation_dir)"
      ],
      "metadata": {
        "id": "ByIBQNBw8GUj"
      },
      "execution_count": null,
      "outputs": []
    },
    {
      "cell_type": "code",
      "source": [
        "# Define class names and move images\n",
        "class_names = ['Park', 'Cars', 'animals']"
      ],
      "metadata": {
        "colab": {
          "base_uri": "https://localhost:8080/"
        },
        "id": "YdlOiIq4gv7Q",
        "outputId": "b8475bf3-d4de-497e-ceb1-163232969c15"
      },
      "execution_count": null,
      "outputs": [
        {
          "output_type": "stream",
          "name": "stdout",
          "text": [
            "Found 20 images belonging to 5 classes.\n",
            "Found 4 images belonging to 5 classes.\n",
            "Number of training samples: 20\n",
            "Number of validation samples: 4\n"
          ]
        }
      ]
    },
    {
      "cell_type": "code",
      "source": [
        "# Move images to validation directory first\n",
        "move_images(base_dir, validation_dir, class_names, 1)"
      ],
      "metadata": {
        "id": "zJk2opEPQOoB"
      },
      "execution_count": null,
      "outputs": []
    },
    {
      "cell_type": "code",
      "source": [
        "# Move remaining images to train directory\n",
        "for class_name in class_names:\n",
        "    class_src_dir = os.path.join(base_dir, class_name)\n",
        "    remaining_images = len(os.listdir(class_src_dir)) - 1\n",
        "    move_images(base_dir, train_dir, [class_name], remaining_images)"
      ],
      "metadata": {
        "id": "9ARQOE-dQOqJ"
      },
      "execution_count": null,
      "outputs": []
    },
    {
      "cell_type": "code",
      "source": [
        "# Verify the structure for training and validation\n",
        "print(\"\\nTraining Directory Structure:\")\n",
        "verify_structure(train_dir)\n",
        "print(\"\\nValidation Directory Structure:\")\n",
        "verify_structure(validation_dir)\n"
      ],
      "metadata": {
        "id": "eU_cqdH7QOsW"
      },
      "execution_count": null,
      "outputs": []
    },
    {
      "cell_type": "code",
      "source": [
        "# Image Data Generator for Training and Validation\n",
        "datagen = ImageDataGenerator(rescale=1./255, validation_split=0.2)\n",
        "\n",
        "def create_generators(base_dir, batch_size):\n",
        "    train_generator = datagen.flow_from_directory(\n",
        "        base_dir,\n",
        "        target_size=(224, 224),\n",
        "        batch_size=batch_size,\n",
        "        class_mode='categorical',\n",
        "        subset='training'\n",
        "    )\n",
        "\n",
        "    validation_generator = datagen.flow_from_directory(\n",
        "        base_dir,\n",
        "        target_size=(224, 224),\n",
        "        batch_size=batch_size,\n",
        "        class_mode='categorical',\n",
        "        subset='validation'\n",
        "    )\n",
        "    return train_generator, validation_generator"
      ],
      "metadata": {
        "id": "DtMT2-rzQOue"
      },
      "execution_count": null,
      "outputs": []
    },
    {
      "cell_type": "code",
      "source": [
        "# Update the data generators with the new directory structure\n",
        "train_generator, validation_generator = create_generators(train_dir, batch_size=2)\n",
        "print(\"Number of training samples:\", train_generator.samples)\n",
        "print(\"Number of validation samples:\", validation_generator.samples)"
      ],
      "metadata": {
        "id": "7HZWdP3BT1xW"
      },
      "execution_count": null,
      "outputs": []
    },
    {
      "cell_type": "code",
      "source": [
        "# Load the pre-trained MobileNetV2 model\n",
        "base_model = MobileNetV2(weights='imagenet', include_top=False, input_shape=(224, 224, 3))"
      ],
      "metadata": {
        "id": "ePruHTyUT1zs"
      },
      "execution_count": null,
      "outputs": []
    },
    {
      "cell_type": "code",
      "source": [
        "# Add custom layers on top of the base model\n",
        "x = base_model.output\n",
        "x = GlobalAveragePooling2D()(x)\n",
        "x = Dense(1024, activation='relu')(x)\n",
        "predictions = Dense(train_generator.num_classes, activation='softmax')(x)\n",
        "model = Model(inputs=base_model.input, outputs=predictions)"
      ],
      "metadata": {
        "id": "PBnBauN-T12D"
      },
      "execution_count": null,
      "outputs": []
    },
    {
      "cell_type": "code",
      "source": [
        "# Freeze the base model layers\n",
        "for layer in base_model.layers:\n",
        "    layer.trainable = False"
      ],
      "metadata": {
        "id": "jvHoQ1MFT14a"
      },
      "execution_count": null,
      "outputs": []
    },
    {
      "cell_type": "code",
      "source": [
        "# Compile the model\n",
        "model.compile(optimizer=tf.keras.optimizers.Adam(learning_rate=0.001),\n",
        "              loss='categorical_crossentropy',\n",
        "              metrics=['accuracy'])\n",
        "\n",
        "model.summary()"
      ],
      "metadata": {
        "id": "28PmHsDXT160"
      },
      "execution_count": null,
      "outputs": []
    },
    {
      "cell_type": "code",
      "source": [
        "# Train the model\n",
        "history = model.fit(\n",
        "    train_generator,\n",
        "    epochs=10,\n",
        "    validation_data=validation_generator\n",
        ")\n",
        "\n",
        "model.save('/content/drive/MyDrive/New Project/my_model.h5')"
      ],
      "metadata": {
        "id": "nLDvp4w_T19E"
      },
      "execution_count": null,
      "outputs": []
    },
    {
      "cell_type": "code",
      "source": [
        "# Re-evaluate the model only if there are samples in the validation set\n",
        "if validation_generator.samples > 0:\n",
        "    val_loss, val_accuracy = model.evaluate(validation_generator)\n",
        "    print(f\"Validation Loss: {val_loss}\")\n",
        "    print(f\"Validation Accuracy: {val_accuracy}\")\n",
        "else:\n",
        "    print(\"No samples in the validation set.\")"
      ],
      "metadata": {
        "id": "n0cu-GSWUQQ0"
      },
      "execution_count": null,
      "outputs": []
    },
    {
      "cell_type": "code",
      "source": [
        "# Function to load and preprocess image\n",
        "def load_and_preprocess_image(img_path):\n",
        "    img = load_img(img_path, target_size=(224, 224))\n",
        "    img_array = img_to_array(img)\n",
        "    img_array = np.expand_dims(img_array, axis=0)\n",
        "    img_array /= 255.0\n",
        "    return img_array"
      ],
      "metadata": {
        "id": "z_gHg8YXUQTE"
      },
      "execution_count": null,
      "outputs": []
    },
    {
      "cell_type": "code",
      "source": [
        "# Example usage for new image prediction\n",
        "img_path = '/content/drive/MyDrive/New Project/New Images Prediction/Cars/Cars1.jpg'\n",
        "img_array = load_and_preprocess_image(img_path)"
      ],
      "metadata": {
        "id": "vAIObA3wUQWD"
      },
      "execution_count": null,
      "outputs": []
    },
    {
      "cell_type": "code",
      "source": [
        "# Function to make and display predictions\n",
        "def predict_and_display(new_images_dir, model, class_labels):\n",
        "    for category in os.listdir(new_images_dir):\n",
        "        category_path = os.path.join(new_images_dir, category)\n",
        "        if os.path.isdir(category_path):\n",
        "            for img_file in os.listdir(category_path):\n",
        "                img_path = os.path.join(category_path, img_file)\n",
        "                img_array = load_and_preprocess_image(img_path)\n",
        "\n",
        "                predictions = model.predict(img_array)\n",
        "                predicted_class = np.argmax(predictions, axis=1)\n",
        "                predicted_label = class_labels[predicted_class[0]]\n",
        "                print(f\"Image: {img_file} - Predicted label: {predicted_label}\")\n",
        "\n",
        "                img = load_img(img_path)\n",
        "                plt.imshow(img)\n",
        "                plt.title(f\"Predicted label: {predicted_label}\")\n",
        "                plt.show()"
      ],
      "metadata": {
        "id": "OZreMcXkUQYR"
      },
      "execution_count": null,
      "outputs": []
    },
    {
      "cell_type": "code",
      "source": [
        "# Predict and display for new images\n",
        "new_images_dir = '/content/drive/MyDrive/New Project/New Images Prediction/'\n",
        "predict_and_display(new_images_dir, model, list(train_generator.class_indices.keys()))"
      ],
      "metadata": {
        "id": "z_dkBjKsUQap"
      },
      "execution_count": null,
      "outputs": []
    },
    {
      "cell_type": "code",
      "source": [],
      "metadata": {
        "id": "eMcKZLmpYaGO"
      },
      "execution_count": null,
      "outputs": []
    },
    {
      "cell_type": "code",
      "source": [],
      "metadata": {
        "id": "CtGHYAekZiLm"
      },
      "execution_count": null,
      "outputs": []
    },
    {
      "cell_type": "code",
      "source": [],
      "metadata": {
        "id": "zu_whnUcZiOH"
      },
      "execution_count": null,
      "outputs": []
    }
  ]
}